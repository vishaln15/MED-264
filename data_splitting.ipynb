{
 "cells": [
  {
   "cell_type": "code",
   "execution_count": 1,
   "metadata": {},
   "outputs": [],
   "source": [
    "# Imports\n",
    "\n",
    "import pandas as pd\n",
    "import numpy as np\n",
    "import os\n",
    "\n",
    "from sklearn.preprocessing import LabelEncoder, StandardScaler"
   ]
  },
  {
   "cell_type": "code",
   "execution_count": 2,
   "metadata": {},
   "outputs": [],
   "source": [
    "# Setting numpy random seed (used for deterministic shuffling)\n",
    "\n",
    "SEED = 0\n",
    "np.random.seed(SEED)"
   ]
  },
  {
   "cell_type": "code",
   "execution_count": 3,
   "metadata": {},
   "outputs": [],
   "source": [
    "dataset = os.getenv('WORKSPACE_CDR')\n",
    "my_bucket = os.getenv('WORKSPACE_BUCKET')"
   ]
  },
  {
   "cell_type": "code",
   "execution_count": 4,
   "metadata": {},
   "outputs": [],
   "source": [
    "data = pd.read_csv(\"overall_data.csv\")"
   ]
  },
  {
   "cell_type": "code",
   "execution_count": 5,
   "metadata": {},
   "outputs": [
    {
     "data": {
      "text/plain": [
       "array(['General Health: Excellent', 'General Health: Good',\n",
       "       'General Health: Very Good', 'General Health: Fair', 'PMI: Skip',\n",
       "       'General Health: Poor'], dtype=object)"
      ]
     },
     "execution_count": 5,
     "metadata": {},
     "output_type": "execute_result"
    }
   ],
   "source": [
    "data.answer.unique()"
   ]
  },
  {
   "cell_type": "markdown",
   "metadata": {},
   "source": [
    "1. The column *answer* is of type object, therefore it needs to be encoded.\n",
    "2. Column *is_main_sleep* is of type bool, therefore it needs to be encoded."
   ]
  },
  {
   "cell_type": "code",
   "execution_count": 6,
   "metadata": {},
   "outputs": [],
   "source": [
    "answer_option_map = {\n",
    "    \"General Health: Excellent\": 5,\n",
    "    \"General Health: Very Good\": 4,\n",
    "    \"General Health: Good\": 3,\n",
    "    \"General Health: Fair\": 2,\n",
    "    \"General Health: Poor\": 1,\n",
    "    \"PMI: Skip\": 0\n",
    "}\n",
    "\n",
    "data[\"answer\"] = data[\"answer\"].map(answer_option_map)"
   ]
  },
  {
   "cell_type": "code",
   "execution_count": 7,
   "metadata": {},
   "outputs": [
    {
     "data": {
      "text/plain": [
       "4    1547212\n",
       "3    1147015\n",
       "5     523857\n",
       "2     365262\n",
       "0      63062\n",
       "1      51742\n",
       "Name: answer, dtype: int64"
      ]
     },
     "execution_count": 7,
     "metadata": {},
     "output_type": "execute_result"
    }
   ],
   "source": [
    "data.answer.value_counts()"
   ]
  },
  {
   "cell_type": "code",
   "execution_count": 8,
   "metadata": {},
   "outputs": [],
   "source": [
    "data = data[data[\"answer\"] != 0]"
   ]
  },
  {
   "cell_type": "code",
   "execution_count": 9,
   "metadata": {},
   "outputs": [
    {
     "data": {
      "text/plain": [
       "4    1547212\n",
       "3    1147015\n",
       "5     523857\n",
       "2     365262\n",
       "1      51742\n",
       "Name: answer, dtype: int64"
      ]
     },
     "execution_count": 9,
     "metadata": {},
     "output_type": "execute_result"
    }
   ],
   "source": [
    "data.answer.value_counts()"
   ]
  },
  {
   "cell_type": "code",
   "execution_count": 10,
   "metadata": {},
   "outputs": [],
   "source": [
    "# Label encoding strategy for encoding column answer\n",
    "\n",
    "# le = LabelEncoder()\n",
    "# data[\"answer\"] = le.fit_transform(data[\"answer\"])"
   ]
  },
  {
   "cell_type": "code",
   "execution_count": 11,
   "metadata": {},
   "outputs": [],
   "source": [
    "# Converting bool column to numeric\n",
    "\n",
    "data[\"is_main_sleep\"] = data[\"is_main_sleep\"].astype(\"int8\")"
   ]
  },
  {
   "cell_type": "markdown",
   "metadata": {},
   "source": [
    "# Accumulating a year's worth data of patient together as a single row"
   ]
  },
  {
   "cell_type": "code",
   "execution_count": 12,
   "metadata": {},
   "outputs": [],
   "source": [
    "# Dropping the dates (as they are unnecessary)\n",
    "\n",
    "features = [\"answer\", \"sum_steps\", \"minute_in_bed\", \"minute_asleep\", \"minute_after_wakeup\", \n",
    "            \"minute_awake\", \"minute_deep\", \"minute_light\", \"minute_rem\", \"minute_wake\"]\n",
    "\n",
    "data = data.drop(columns=[\"date\", \"sleep_date\", \"survey_date\", \"is_main_sleep\"])"
   ]
  },
  {
   "cell_type": "code",
   "execution_count": 13,
   "metadata": {},
   "outputs": [],
   "source": [
    "data_one = data.groupby(\"person_id\").mean()\n",
    "data_two = data.groupby(\"person_id\").median()\n",
    "\n",
    "# Resetting the index to make 'Patient_ID' a column again\n",
    "data_two.reset_index(inplace=True)"
   ]
  },
  {
   "cell_type": "markdown",
   "metadata": {},
   "source": [
    "# Splitting the data using 80-20 split"
   ]
  },
  {
   "cell_type": "code",
   "execution_count": 14,
   "metadata": {},
   "outputs": [],
   "source": [
    "np.random.seed(SEED)\n",
    "\n",
    "train_test_split_ratio = 0.8\n",
    "\n",
    "all_pids = data[\"person_id\"].unique()\n",
    "\n",
    "all_shuffled_pids = all_pids.copy()\n",
    "np.random.shuffle(all_shuffled_pids)"
   ]
  },
  {
   "cell_type": "code",
   "execution_count": 15,
   "metadata": {},
   "outputs": [],
   "source": [
    "train_pids = all_pids[: int(len(all_pids) * train_test_split_ratio)]\n",
    "test_pids = all_pids[int(len(all_pids) * train_test_split_ratio): ]"
   ]
  },
  {
   "cell_type": "code",
   "execution_count": 16,
   "metadata": {},
   "outputs": [],
   "source": [
    "train_data = data_two[data_two[\"person_id\"].isin(train_pids)]\n",
    "test_data = data_two[data_two[\"person_id\"].isin(test_pids)]"
   ]
  },
  {
   "cell_type": "code",
   "execution_count": 17,
   "metadata": {},
   "outputs": [],
   "source": [
    "features = [\"answer\", \"sum_steps\", \"minute_in_bed\", \"minute_asleep\", \n",
    "            \"minute_awake\", \"minute_deep\", \"minute_light\", \n",
    "            \"minute_rem\", \"minute_wake\"]\n",
    "\n",
    "train_data = train_data[features]\n",
    "test_data = test_data[features]"
   ]
  },
  {
   "cell_type": "code",
   "execution_count": 18,
   "metadata": {},
   "outputs": [],
   "source": [
    "scaler = StandardScaler()\n",
    "\n",
    "columns_to_normalize = [\"sum_steps\", \"minute_in_bed\", \"minute_asleep\", \"minute_awake\",\n",
    "                        \"minute_deep\", \"minute_light\", \n",
    "                        \"minute_rem\", \"minute_wake\"]\n",
    "\n",
    "train_data_norm = train_data.copy()\n",
    "test_data_norm = test_data.copy()\n",
    "\n",
    "train_data_norm[columns_to_normalize] = scaler.fit_transform(train_data_norm[columns_to_normalize])\n",
    "test_data_norm[columns_to_normalize] = scaler.fit_transform(test_data_norm[columns_to_normalize])"
   ]
  },
  {
   "cell_type": "code",
   "execution_count": 19,
   "metadata": {},
   "outputs": [],
   "source": [
    "train, test = train_data_norm.to_numpy(), test_data_norm.to_numpy()\n",
    "\n",
    "train_file_name, test_file_name = \"train.npy\", \"test.npy\"\n",
    "np.save(train_file_name, train)\n",
    "np.save(test_file_name, test)"
   ]
  }
 ],
 "metadata": {
  "kernelspec": {
   "display_name": "Python 3",
   "language": "python",
   "name": "python3"
  },
  "language_info": {
   "codemirror_mode": {
    "name": "ipython",
    "version": 3
   },
   "file_extension": ".py",
   "mimetype": "text/x-python",
   "name": "python",
   "nbconvert_exporter": "python",
   "pygments_lexer": "ipython3",
   "version": "3.7.12"
  },
  "toc": {
   "base_numbering": 1,
   "nav_menu": {},
   "number_sections": true,
   "sideBar": true,
   "skip_h1_title": false,
   "title_cell": "Table of Contents",
   "title_sidebar": "Contents",
   "toc_cell": false,
   "toc_position": {},
   "toc_section_display": true,
   "toc_window_display": false
  }
 },
 "nbformat": 4,
 "nbformat_minor": 2
}
