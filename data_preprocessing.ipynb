{
 "cells": [
  {
   "cell_type": "markdown",
   "metadata": {},
   "source": [
    "# NOTES\n",
    "\n",
    "1. Dropping `minute_restless` from `fitbit_sleep_daily_summary.csv` as it is about 60% empty.\n",
    "2. Dropping `survey_version_concept_id` and `survey_version_name` from `survey.csv` as they are fully empty."
   ]
  },
  {
   "cell_type": "code",
   "execution_count": 1,
   "metadata": {},
   "outputs": [],
   "source": [
    "# Imports\n",
    "\n",
    "import pandas as pd\n",
    "import numpy as np\n",
    "import os\n",
    "import dask.dataframe as dd\n",
    "\n",
    "from datetime import date, datetime, timedelta"
   ]
  },
  {
   "cell_type": "code",
   "execution_count": 2,
   "metadata": {},
   "outputs": [],
   "source": [
    "dataset = os.getenv('WORKSPACE_CDR')\n",
    "my_bucket = os.getenv('WORKSPACE_BUCKET')"
   ]
  },
  {
   "cell_type": "code",
   "execution_count": 3,
   "metadata": {},
   "outputs": [],
   "source": [
    "def report_missingness(df: pd.DataFrame):\n",
    "    missing_percentage = df.isnull().mean() * 100\n",
    "\n",
    "    # Create a DataFrame to display the results\n",
    "    missing_info = pd.DataFrame({\n",
    "        'Column': missing_percentage.index,\n",
    "        'Missing Percentage': missing_percentage.values\n",
    "    })\n",
    "\n",
    "    # Print the result\n",
    "    return missing_info"
   ]
  },
  {
   "cell_type": "code",
   "execution_count": 4,
   "metadata": {},
   "outputs": [
    {
     "name": "stdout",
     "output_type": "stream",
     "text": [
      "Loaded data successfully...\n",
      "CPU times: user 16.8 s, sys: 3.81 s, total: 20.6 s\n",
      "Wall time: 22.2 s\n"
     ]
    }
   ],
   "source": [
    "%%time\n",
    "\n",
    "# Reading data\n",
    "\n",
    "fitbit_intraday_steps_df = pd.read_csv(\"fitbit_intraday_steps.csv\")\n",
    "fitbit_sleep_daily_summary_df = pd.read_csv(\"fitbit_sleep_daily_summary.csv\")\n",
    "survey_df = pd.read_csv(\"survey.csv\")\n",
    "\n",
    "print(\"Loaded data successfully...\")"
   ]
  },
  {
   "cell_type": "code",
   "execution_count": 5,
   "metadata": {},
   "outputs": [
    {
     "name": "stdout",
     "output_type": "stream",
     "text": [
      "Intraday steps features = Index(['person_id', 'date', 'sum_steps'], dtype='object')\n",
      "Sleep daily features = Index(['person_id', 'sleep_date', 'is_main_sleep', 'minute_in_bed',\n",
      "       'minute_asleep', 'minute_after_wakeup', 'minute_awake',\n",
      "       'minute_restless', 'minute_deep', 'minute_light', 'minute_rem',\n",
      "       'minute_wake'],\n",
      "      dtype='object')\n",
      "Survey features = Index(['person_id', 'survey_datetime', 'survey', 'question_concept_id',\n",
      "       'question', 'answer_concept_id', 'answer', 'survey_version_concept_id',\n",
      "       'survey_version_name'],\n",
      "      dtype='object')\n"
     ]
    }
   ],
   "source": [
    "print(f\"Intraday steps features = {fitbit_intraday_steps_df.columns}\")\n",
    "print(f\"Sleep daily features = {fitbit_sleep_daily_summary_df.columns}\")\n",
    "print(f\"Survey features = {survey_df.columns}\")"
   ]
  },
  {
   "cell_type": "code",
   "execution_count": 6,
   "metadata": {},
   "outputs": [
    {
     "name": "stdout",
     "output_type": "stream",
     "text": [
      "      Column  Missing Percentage\n",
      "0  person_id                 0.0\n",
      "1       date                 0.0\n",
      "2  sum_steps                 0.0\n",
      "-------------------\n",
      "                 Column  Missing Percentage\n",
      "0             person_id            0.000000\n",
      "1            sleep_date            0.000000\n",
      "2         is_main_sleep            0.000000\n",
      "3         minute_in_bed            0.000000\n",
      "4         minute_asleep            0.000000\n",
      "5   minute_after_wakeup            0.000000\n",
      "6          minute_awake            0.000000\n",
      "7       minute_restless           58.037069\n",
      "8           minute_deep           41.962931\n",
      "9          minute_light           41.962931\n",
      "10           minute_rem           41.962931\n",
      "11          minute_wake           41.962931\n",
      "-------------------\n",
      "                      Column  Missing Percentage\n",
      "0                  person_id            0.000000\n",
      "1            survey_datetime            0.000000\n",
      "2                     survey            0.000000\n",
      "3        question_concept_id            0.000000\n",
      "4                   question            0.000000\n",
      "5          answer_concept_id            6.833761\n",
      "6                     answer            0.000000\n",
      "7  survey_version_concept_id          100.000000\n",
      "8        survey_version_name          100.000000\n",
      "-------------------\n"
     ]
    }
   ],
   "source": [
    "for df in [fitbit_intraday_steps_df, fitbit_sleep_daily_summary_df, survey_df]:\n",
    "    print(report_missingness(df))\n",
    "    print(\"-------------------\")"
   ]
  },
  {
   "cell_type": "code",
   "execution_count": 7,
   "metadata": {},
   "outputs": [
    {
     "name": "stdout",
     "output_type": "stream",
     "text": [
      "Dropping the columns minute_restless, survey_version_concept_id, survey_version_name...\n"
     ]
    }
   ],
   "source": [
    "# Dropping highly missing columns\n",
    "\n",
    "print(f\"Dropping the columns minute_restless, survey_version_concept_id, survey_version_name...\")\n",
    "\n",
    "fitbit_sleep_daily_summary_df = fitbit_sleep_daily_summary_df.drop(columns=[\"minute_restless\"])\n",
    "survey_df = survey_df.drop(columns=[\"survey_version_concept_id\", \"survey_version_name\"])"
   ]
  },
  {
   "cell_type": "code",
   "execution_count": 8,
   "metadata": {},
   "outputs": [
    {
     "name": "stdout",
     "output_type": "stream",
     "text": [
      "Completed datetime conversions...\n"
     ]
    }
   ],
   "source": [
    "# Convert the respective date/datetime columns to date objects for each dataframe\n",
    "\n",
    "fitbit_intraday_steps_df[\"date\"] = pd.to_datetime(fitbit_intraday_steps_df[\"date\"])\n",
    "fitbit_intraday_steps_df[\"date\"] = fitbit_intraday_steps_df[\"date\"].dt.date\n",
    "\n",
    "fitbit_sleep_daily_summary_df[\"sleep_date\"] = pd.to_datetime(fitbit_sleep_daily_summary_df[\"sleep_date\"])\n",
    "fitbit_sleep_daily_summary_df[\"sleep_date\"] = fitbit_sleep_daily_summary_df[\"sleep_date\"].dt.date\n",
    "\n",
    "\"\"\"\n",
    "Survey datetime looks like this. For example, 2017-12-11 17:36:06+00:00.\n",
    "Cleaning it up to extract only the date\n",
    "\"\"\"\n",
    "\n",
    "survey_df[\"survey_datetime\"] = pd.to_datetime(survey_df[\"survey_datetime\"])\n",
    "survey_df[\"survey_date\"] = survey_df[\"survey_datetime\"].dt.date\n",
    "survey_df = survey_df.drop(columns=[\"survey_datetime\"])\n",
    "\n",
    "print(\"Completed datetime conversions...\")"
   ]
  },
  {
   "cell_type": "code",
   "execution_count": 9,
   "metadata": {},
   "outputs": [
    {
     "name": "stdout",
     "output_type": "stream",
     "text": [
      "Completed populating the data structure...\n",
      "CPU times: user 58.2 s, sys: 321 ms, total: 58.5 s\n",
      "Wall time: 58.5 s\n"
     ]
    }
   ],
   "source": [
    "%%time\n",
    "\n",
    "# Creating and populating a hash table that maps every patient ID with their respective dates (range of years \n",
    "# up to one year before the date of their survey)\n",
    "\n",
    "patient_dates = dict()\n",
    "\n",
    "unique_survey_pids = survey_df.person_id.unique()\n",
    "for pid in unique_survey_pids:\n",
    "    date = survey_df[survey_df.person_id == pid][\"survey_date\"].values[0]\n",
    "    prev_date = date - timedelta(days=365*2)\n",
    "    date_range = pd.date_range(start=prev_date, end=date)\n",
    "    date_range = date_range.tolist()\n",
    "    date_range = [x.date() for x in date_range]\n",
    "    patient_dates[pid] = date_range\n",
    "    \n",
    "print(\"Completed populating the data structure...\")\n",
    "    \n",
    "# print(dt.strptime(\"2017-12-11\", \"%Y-%m-%d\") in date_range.tolist())"
   ]
  },
  {
   "cell_type": "markdown",
   "metadata": {},
   "source": [
    "## Fitbit Intraday Steps"
   ]
  },
  {
   "cell_type": "code",
   "execution_count": 10,
   "metadata": {},
   "outputs": [
    {
     "name": "stdout",
     "output_type": "stream",
     "text": [
      "CPU times: user 1min 7s, sys: 528 ms, total: 1min 7s\n",
      "Wall time: 1min 7s\n"
     ]
    }
   ],
   "source": [
    "%%time\n",
    "\n",
    "filtered_steps_data_list = []\n",
    "\n",
    "def func(group, date_column_name=\"date\"):\n",
    "    pid = group[\"person_id\"].iloc[0]\n",
    "    required_dates = patient_dates.get(pid)\n",
    "    filtered_group = group[group[date_column_name].isin(required_dates)]\n",
    "    filtered_group = filtered_group.sort_values(date_column_name)\n",
    "    filtered_group = filtered_group.reset_index(drop=True)\n",
    "    filtered_steps_data_list.append(filtered_group)\n",
    "    return None\n",
    "\n",
    "_ = fitbit_intraday_steps_df.groupby(\"person_id\").apply(func)"
   ]
  },
  {
   "cell_type": "code",
   "execution_count": 11,
   "metadata": {},
   "outputs": [
    {
     "name": "stdout",
     "output_type": "stream",
     "text": [
      "CPU times: user 5.21 s, sys: 53.9 ms, total: 5.26 s\n",
      "Wall time: 5.26 s\n"
     ]
    }
   ],
   "source": [
    "%%time\n",
    "\n",
    "filtered_steps_data = pd.concat(filtered_steps_data_list, ignore_index=True)"
   ]
  },
  {
   "cell_type": "code",
   "execution_count": 12,
   "metadata": {},
   "outputs": [
    {
     "data": {
      "text/plain": [
       "12011"
      ]
     },
     "execution_count": 12,
     "metadata": {},
     "output_type": "execute_result"
    }
   ],
   "source": [
    "filtered_steps_data.person_id.nunique()"
   ]
  },
  {
   "cell_type": "markdown",
   "metadata": {},
   "source": [
    "## Fitbit Sleep Summary"
   ]
  },
  {
   "cell_type": "code",
   "execution_count": 13,
   "metadata": {},
   "outputs": [
    {
     "name": "stdout",
     "output_type": "stream",
     "text": [
      "CPU times: user 1min 7s, sys: 1.03 s, total: 1min 8s\n",
      "Wall time: 1min 8s\n"
     ]
    }
   ],
   "source": [
    "%%time\n",
    "\n",
    "filtered_sleep_data_list = []\n",
    "\n",
    "def func(group, date_column_name=\"sleep_date\"):\n",
    "    pid = group[\"person_id\"].iloc[0]\n",
    "    required_dates = patient_dates.get(pid)\n",
    "    filtered_group = group[group[date_column_name].isin(required_dates)]\n",
    "    filtered_group = filtered_group.sort_values(date_column_name)\n",
    "    filtered_group = filtered_group.reset_index(drop=True)\n",
    "    filtered_sleep_data_list.append(filtered_group)\n",
    "    return None\n",
    "\n",
    "_ = fitbit_sleep_daily_summary_df.groupby(\"person_id\").apply(func)"
   ]
  },
  {
   "cell_type": "code",
   "execution_count": 14,
   "metadata": {},
   "outputs": [
    {
     "name": "stdout",
     "output_type": "stream",
     "text": [
      "CPU times: user 6.34 s, sys: 165 ms, total: 6.51 s\n",
      "Wall time: 6.5 s\n"
     ]
    }
   ],
   "source": [
    "%%time\n",
    "\n",
    "filtered_sleep_data = pd.concat(filtered_sleep_data_list, ignore_index=True)"
   ]
  },
  {
   "cell_type": "code",
   "execution_count": 15,
   "metadata": {},
   "outputs": [
    {
     "data": {
      "text/plain": [
       "11591"
      ]
     },
     "execution_count": 15,
     "metadata": {},
     "output_type": "execute_result"
    }
   ],
   "source": [
    "filtered_sleep_data.person_id.nunique()"
   ]
  },
  {
   "cell_type": "markdown",
   "metadata": {},
   "source": [
    "# Merging"
   ]
  },
  {
   "cell_type": "code",
   "execution_count": 16,
   "metadata": {},
   "outputs": [],
   "source": [
    "new_survey_df = survey_df[survey_df.question == \"Overall Health: General Health\"]"
   ]
  },
  {
   "cell_type": "code",
   "execution_count": 17,
   "metadata": {},
   "outputs": [
    {
     "name": "stdout",
     "output_type": "stream",
     "text": [
      "CPU times: user 9.53 s, sys: 1.97 s, total: 11.5 s\n",
      "Wall time: 11.6 s\n"
     ]
    }
   ],
   "source": [
    "%%time\n",
    "\n",
    "\"\"\"\n",
    "Now that we have all 3 dataframes i.e., survey data, filtered steps data, and filtered sleep data, \n",
    "we will merge these based on the person IDs and dates using the following strategy.\n",
    "\"\"\"\n",
    "\n",
    "intermediate_steps_sleep_df = pd.merge(filtered_steps_data, filtered_sleep_data, \n",
    "                                       how=\"inner\", left_on = [\"person_id\", \"date\"], right_on = [\"person_id\", \"sleep_date\"])\n",
    "final_df = pd.merge(intermediate_steps_sleep_df, new_survey_df, how=\"left\", on=\"person_id\")"
   ]
  },
  {
   "cell_type": "code",
   "execution_count": 18,
   "metadata": {},
   "outputs": [
    {
     "name": "stdout",
     "output_type": "stream",
     "text": [
      "<class 'pandas.core.frame.DataFrame'>\n",
      "Int64Index: 4226814 entries, 0 to 4226813\n",
      "Data columns (total 19 columns):\n",
      " #   Column               Dtype  \n",
      "---  ------               -----  \n",
      " 0   person_id            int64  \n",
      " 1   date                 object \n",
      " 2   sum_steps            int64  \n",
      " 3   sleep_date           object \n",
      " 4   is_main_sleep        bool   \n",
      " 5   minute_in_bed        int64  \n",
      " 6   minute_asleep        int64  \n",
      " 7   minute_after_wakeup  int64  \n",
      " 8   minute_awake         int64  \n",
      " 9   minute_deep          float64\n",
      " 10  minute_light         float64\n",
      " 11  minute_rem           float64\n",
      " 12  minute_wake          float64\n",
      " 13  survey               object \n",
      " 14  question_concept_id  int64  \n",
      " 15  question             object \n",
      " 16  answer_concept_id    float64\n",
      " 17  answer               object \n",
      " 18  survey_date          object \n",
      "dtypes: bool(1), float64(5), int64(7), object(6)\n",
      "memory usage: 616.7+ MB\n"
     ]
    }
   ],
   "source": [
    "final_df.info()"
   ]
  },
  {
   "cell_type": "markdown",
   "metadata": {},
   "source": [
    "# Dropping question and answer concept IDs"
   ]
  },
  {
   "cell_type": "code",
   "execution_count": 19,
   "metadata": {},
   "outputs": [
    {
     "data": {
      "text/html": [
       "<div>\n",
       "<style scoped>\n",
       "    .dataframe tbody tr th:only-of-type {\n",
       "        vertical-align: middle;\n",
       "    }\n",
       "\n",
       "    .dataframe tbody tr th {\n",
       "        vertical-align: top;\n",
       "    }\n",
       "\n",
       "    .dataframe thead th {\n",
       "        text-align: right;\n",
       "    }\n",
       "</style>\n",
       "<table border=\"1\" class=\"dataframe\">\n",
       "  <thead>\n",
       "    <tr style=\"text-align: right;\">\n",
       "      <th></th>\n",
       "      <th>Column</th>\n",
       "      <th>Missing Percentage</th>\n",
       "    </tr>\n",
       "  </thead>\n",
       "  <tbody>\n",
       "    <tr>\n",
       "      <th>0</th>\n",
       "      <td>person_id</td>\n",
       "      <td>0.000000</td>\n",
       "    </tr>\n",
       "    <tr>\n",
       "      <th>1</th>\n",
       "      <td>date</td>\n",
       "      <td>0.000000</td>\n",
       "    </tr>\n",
       "    <tr>\n",
       "      <th>2</th>\n",
       "      <td>sum_steps</td>\n",
       "      <td>0.000000</td>\n",
       "    </tr>\n",
       "    <tr>\n",
       "      <th>3</th>\n",
       "      <td>sleep_date</td>\n",
       "      <td>0.000000</td>\n",
       "    </tr>\n",
       "    <tr>\n",
       "      <th>4</th>\n",
       "      <td>is_main_sleep</td>\n",
       "      <td>0.000000</td>\n",
       "    </tr>\n",
       "    <tr>\n",
       "      <th>5</th>\n",
       "      <td>minute_in_bed</td>\n",
       "      <td>0.000000</td>\n",
       "    </tr>\n",
       "    <tr>\n",
       "      <th>6</th>\n",
       "      <td>minute_asleep</td>\n",
       "      <td>0.000000</td>\n",
       "    </tr>\n",
       "    <tr>\n",
       "      <th>7</th>\n",
       "      <td>minute_after_wakeup</td>\n",
       "      <td>0.000000</td>\n",
       "    </tr>\n",
       "    <tr>\n",
       "      <th>8</th>\n",
       "      <td>minute_awake</td>\n",
       "      <td>0.000000</td>\n",
       "    </tr>\n",
       "    <tr>\n",
       "      <th>9</th>\n",
       "      <td>minute_deep</td>\n",
       "      <td>38.969825</td>\n",
       "    </tr>\n",
       "    <tr>\n",
       "      <th>10</th>\n",
       "      <td>minute_light</td>\n",
       "      <td>38.969825</td>\n",
       "    </tr>\n",
       "    <tr>\n",
       "      <th>11</th>\n",
       "      <td>minute_rem</td>\n",
       "      <td>38.969825</td>\n",
       "    </tr>\n",
       "    <tr>\n",
       "      <th>12</th>\n",
       "      <td>minute_wake</td>\n",
       "      <td>38.969825</td>\n",
       "    </tr>\n",
       "    <tr>\n",
       "      <th>13</th>\n",
       "      <td>survey</td>\n",
       "      <td>0.000000</td>\n",
       "    </tr>\n",
       "    <tr>\n",
       "      <th>14</th>\n",
       "      <td>question_concept_id</td>\n",
       "      <td>0.000000</td>\n",
       "    </tr>\n",
       "    <tr>\n",
       "      <th>15</th>\n",
       "      <td>question</td>\n",
       "      <td>0.000000</td>\n",
       "    </tr>\n",
       "    <tr>\n",
       "      <th>16</th>\n",
       "      <td>answer_concept_id</td>\n",
       "      <td>0.000000</td>\n",
       "    </tr>\n",
       "    <tr>\n",
       "      <th>17</th>\n",
       "      <td>answer</td>\n",
       "      <td>0.000000</td>\n",
       "    </tr>\n",
       "    <tr>\n",
       "      <th>18</th>\n",
       "      <td>survey_date</td>\n",
       "      <td>0.000000</td>\n",
       "    </tr>\n",
       "  </tbody>\n",
       "</table>\n",
       "</div>"
      ],
      "text/plain": [
       "                 Column  Missing Percentage\n",
       "0             person_id            0.000000\n",
       "1                  date            0.000000\n",
       "2             sum_steps            0.000000\n",
       "3            sleep_date            0.000000\n",
       "4         is_main_sleep            0.000000\n",
       "5         minute_in_bed            0.000000\n",
       "6         minute_asleep            0.000000\n",
       "7   minute_after_wakeup            0.000000\n",
       "8          minute_awake            0.000000\n",
       "9           minute_deep           38.969825\n",
       "10         minute_light           38.969825\n",
       "11           minute_rem           38.969825\n",
       "12          minute_wake           38.969825\n",
       "13               survey            0.000000\n",
       "14  question_concept_id            0.000000\n",
       "15             question            0.000000\n",
       "16    answer_concept_id            0.000000\n",
       "17               answer            0.000000\n",
       "18          survey_date            0.000000"
      ]
     },
     "execution_count": 19,
     "metadata": {},
     "output_type": "execute_result"
    }
   ],
   "source": [
    "report_missingness(final_df)"
   ]
  },
  {
   "cell_type": "code",
   "execution_count": 20,
   "metadata": {},
   "outputs": [],
   "source": [
    "final_df.drop(columns=[\"question_concept_id\", \"answer_concept_id\"], inplace=True)"
   ]
  },
  {
   "cell_type": "code",
   "execution_count": 21,
   "metadata": {},
   "outputs": [],
   "source": [
    "final_df.to_csv(\"final_data.csv\", index=False)"
   ]
  }
 ],
 "metadata": {
  "kernelspec": {
   "display_name": "Python 3",
   "language": "python",
   "name": "python3"
  },
  "language_info": {
   "codemirror_mode": {
    "name": "ipython",
    "version": 3
   },
   "file_extension": ".py",
   "mimetype": "text/x-python",
   "name": "python",
   "nbconvert_exporter": "python",
   "pygments_lexer": "ipython3",
   "version": "3.7.12"
  },
  "toc": {
   "base_numbering": 1,
   "nav_menu": {},
   "number_sections": true,
   "sideBar": true,
   "skip_h1_title": false,
   "title_cell": "Table of Contents",
   "title_sidebar": "Contents",
   "toc_cell": false,
   "toc_position": {},
   "toc_section_display": true,
   "toc_window_display": false
  }
 },
 "nbformat": 4,
 "nbformat_minor": 2
}
