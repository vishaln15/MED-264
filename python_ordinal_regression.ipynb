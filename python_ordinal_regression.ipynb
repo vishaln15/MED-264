{
 "cells": [
  {
   "cell_type": "code",
   "execution_count": 1,
   "metadata": {},
   "outputs": [],
   "source": [
    "import pandas as pd\n",
    "import numpy as np\n",
    "import statsmodels.api as sm\n",
    "from statsmodels.miscmodels.ordinal_model import OrderedModel"
   ]
  },
  {
   "cell_type": "code",
   "execution_count": 3,
   "metadata": {},
   "outputs": [],
   "source": [
    "dat = pd.read_csv(\"data_for_R.csv\")\n",
    "dat[\"answer\"] = pd.Categorical(dat[\"answer\"], ordered=True)"
   ]
  },
  {
   "cell_type": "code",
   "execution_count": 14,
   "metadata": {},
   "outputs": [],
   "source": [
    "dat = pd.read_csv(\"data_for_R.csv\")\n",
    "features = [\"sum_steps\", \"minute_asleep\", \"minute_awake\",\n",
    "            \"minute_deep\", \"minute_light\", \"minute_rem\", \"minute_wake\"]\n",
    "\n",
    "features = [\"sum_steps\"]\n",
    "\n",
    "mod = OrderedModel(dat[\"answer\"], \n",
    "                   dat[features],\n",
    "                   distr='logit')"
   ]
  },
  {
   "cell_type": "code",
   "execution_count": 15,
   "metadata": {},
   "outputs": [],
   "source": [
    "res = mod.fit(method='bfgs', disp=False)"
   ]
  },
  {
   "cell_type": "code",
   "execution_count": 16,
   "metadata": {},
   "outputs": [
    {
     "name": "stdout",
     "output_type": "stream",
     "text": [
      "                             OrderedModel Results                             \n",
      "==============================================================================\n",
      "Dep. Variable:                 answer   Log-Likelihood:                -11606.\n",
      "Model:                   OrderedModel   AIC:                         2.323e+04\n",
      "Method:            Maximum Likelihood   BIC:                         2.331e+04\n",
      "Date:                Wed, 06 Dec 2023                                         \n",
      "Time:                        00:26:56                                         \n",
      "No. Observations:                9261                                         \n",
      "Df Residuals:                    9250                                         \n",
      "Df Model:                          11                                         \n",
      "=================================================================================\n",
      "                    coef    std err          z      P>|z|      [0.025      0.975]\n",
      "---------------------------------------------------------------------------------\n",
      "sum_steps         0.0002   5.91e-06     30.049      0.000       0.000       0.000\n",
      "minute_asleep     0.0018      0.000      5.361      0.000       0.001       0.002\n",
      "minute_awake     -0.0036      0.001     -2.418      0.016      -0.007      -0.001\n",
      "minute_deep      -0.0100      0.002     -6.605      0.000      -0.013      -0.007\n",
      "minute_light      0.0021      0.001      3.014      0.003       0.001       0.004\n",
      "minute_rem        0.0003      0.001      0.280      0.779      -0.002       0.003\n",
      "minute_wake       0.0087      0.003      3.384      0.001       0.004       0.014\n",
      "1.0/2.0          -2.0294      0.173    -11.722      0.000      -2.369      -1.690\n",
      "2.0/3.0           0.8078      0.035     23.355      0.000       0.740       0.876\n",
      "3.0/4.0           0.6346      0.017     38.357      0.000       0.602       0.667\n",
      "4.0/5.0           0.7895      0.015     52.584      0.000       0.760       0.819\n",
      "=================================================================================\n"
     ]
    }
   ],
   "source": [
    "print(res.summary())"
   ]
  },
  {
   "cell_type": "code",
   "execution_count": 17,
   "metadata": {},
   "outputs": [],
   "source": [
    "odds_ratios = np.exp(res.params)"
   ]
  },
  {
   "cell_type": "code",
   "execution_count": 18,
   "metadata": {},
   "outputs": [],
   "source": [
    "conf_int = np.exp(res.conf_int())"
   ]
  },
  {
   "cell_type": "code",
   "execution_count": 19,
   "metadata": {},
   "outputs": [
    {
     "name": "stdout",
     "output_type": "stream",
     "text": [
      "\n",
      "Odds Ratios and Confidence Intervals:\n",
      "                     OR  CI Lower  CI Upper\n",
      "sum_steps      1.000178  1.000166  1.000189\n",
      "minute_asleep  1.001788  1.001134  1.002443\n",
      "minute_awake   0.996394  0.993481  0.999316\n",
      "minute_deep    0.990059  0.987128  0.992998\n",
      "minute_light   1.002130  1.000745  1.003518\n",
      "minute_rem     1.000321  0.998080  1.002567\n",
      "minute_wake    1.008779  1.003685  1.013899\n",
      "1.0/2.0        0.131409  0.093596  0.184498\n",
      "2.0/3.0        2.242975  2.095959  2.400304\n",
      "3.0/4.0        1.886291  1.826104  1.948462\n",
      "4.0/5.0        2.202235  2.138376  2.268001\n"
     ]
    }
   ],
   "source": [
    "or_ci = pd.DataFrame({'OR': odds_ratios, 'CI Lower': conf_int[0], 'CI Upper': conf_int[1]})\n",
    "\n",
    "print(\"\\nOdds Ratios and Confidence Intervals:\")\n",
    "print(or_ci)"
   ]
  },
  {
   "cell_type": "markdown",
   "metadata": {},
   "source": [
    "# Multinomial"
   ]
  },
  {
   "cell_type": "code",
   "execution_count": 122,
   "metadata": {},
   "outputs": [],
   "source": [
    "dat = pd.read_csv(\"data_for_R.csv\")\n",
    "bins = [0, 5000, 10000, np.inf]\n",
    "labels = ['0-5000', '5000-10000', '10000+']\n",
    "labels=[1, 2, 3]\n",
    "\n",
    "dat[\"sum_steps\"] = pd.cut(dat[\"sum_steps\"], bins=bins, labels=labels, right=False).astype(\"category\")\n",
    "\n",
    "dat[\"answer\"] = dat[\"answer\"].astype(\"category\")\n",
    "features = [\"minute_in_bed\", \"minute_asleep\", \n",
    "            \"minute_awake\", \"minute_deep\", \"minute_light\", \n",
    "            \"minute_rem\", \"minute_wake\"]\n",
    "\n",
    "dat[\"sum_steps\"] = dat[\"sum_steps\"].cat.reorder_categories([1, 2, 3])\n",
    "x = pd.get_dummies(dat[\"sum_steps\"], drop_first=True)\n",
    "x = pd.concat([x, dat[features]], axis=1)\n",
    "x = sm.add_constant(x)\n",
    "y = dat[\"answer\"]"
   ]
  },
  {
   "cell_type": "code",
   "execution_count": 124,
   "metadata": {},
   "outputs": [
    {
     "name": "stdout",
     "output_type": "stream",
     "text": [
      "Optimization terminated successfully.\n",
      "         Current function value: 1.249962\n",
      "         Iterations 9\n"
     ]
    }
   ],
   "source": [
    "mnlogit_mod = sm.MNLogit(y, x)\n",
    "mnlogit_res = mnlogit_mod.fit()"
   ]
  },
  {
   "cell_type": "code",
   "execution_count": 125,
   "metadata": {},
   "outputs": [
    {
     "name": "stdout",
     "output_type": "stream",
     "text": [
      "                          MNLogit Regression Results                          \n",
      "==============================================================================\n",
      "Dep. Variable:                 answer   No. Observations:                 9261\n",
      "Model:                        MNLogit   Df Residuals:                     9221\n",
      "Method:                           MLE   Df Model:                           36\n",
      "Date:                Wed, 06 Dec 2023   Pseudo R-squ.:                 0.05103\n",
      "Time:                        01:31:21   Log-Likelihood:                -11576.\n",
      "converged:                       True   LL-Null:                       -12198.\n",
      "Covariance Type:            nonrobust   LLR p-value:                4.035e-238\n",
      "=================================================================================\n",
      "     answer=2       coef    std err          z      P>|z|      [0.025      0.975]\n",
      "---------------------------------------------------------------------------------\n",
      "const             2.4824      0.591      4.200      0.000       1.324       3.641\n",
      "2                 0.4345      0.184      2.356      0.018       0.073       0.796\n",
      "3                 1.0345      0.437      2.367      0.018       0.178       1.891\n",
      "minute_in_bed    -0.0099      0.006     -1.591      0.112      -0.022       0.002\n",
      "minute_asleep     0.0120      0.006      1.993      0.046       0.000       0.024\n",
      "minute_awake      0.0054      0.009      0.572      0.568      -0.013       0.024\n",
      "minute_deep      -0.0059      0.007     -0.907      0.364      -0.019       0.007\n",
      "minute_light     -0.0044      0.003     -1.582      0.114      -0.010       0.001\n",
      "minute_rem    -9.538e-05      0.005     -0.019      0.985      -0.010       0.010\n",
      "minute_wake       0.0032      0.011      0.300      0.764      -0.018       0.024\n",
      "---------------------------------------------------------------------------------\n",
      "     answer=3       coef    std err          z      P>|z|      [0.025      0.975]\n",
      "---------------------------------------------------------------------------------\n",
      "const             2.7886      0.571      4.887      0.000       1.670       3.907\n",
      "2                 1.0133      0.177      5.712      0.000       0.666       1.361\n",
      "3                 1.9195      0.426      4.502      0.000       1.084       2.755\n",
      "minute_in_bed    -0.0092      0.006     -1.593      0.111      -0.021       0.002\n",
      "minute_asleep     0.0136      0.006      2.425      0.015       0.003       0.025\n",
      "minute_awake      0.0029      0.009      0.327      0.744      -0.015       0.020\n",
      "minute_deep      -0.0127      0.006     -2.025      0.043      -0.025      -0.000\n",
      "minute_light     -0.0057      0.003     -2.145      0.032      -0.011      -0.000\n",
      "minute_rem        0.0031      0.005      0.654      0.513      -0.006       0.012\n",
      "minute_wake       0.0060      0.010      0.590      0.555      -0.014       0.026\n",
      "---------------------------------------------------------------------------------\n",
      "     answer=4       coef    std err          z      P>|z|      [0.025      0.975]\n",
      "---------------------------------------------------------------------------------\n",
      "const             1.3521      0.575      2.352      0.019       0.226       2.479\n",
      "2                 1.6351      0.179      9.152      0.000       1.285       1.985\n",
      "3                 3.1118      0.426      7.311      0.000       2.278       3.946\n",
      "minute_in_bed    -0.0179      0.006     -2.983      0.003      -0.030      -0.006\n",
      "minute_asleep     0.0227      0.006      3.881      0.000       0.011       0.034\n",
      "minute_awake      0.0115      0.009      1.264      0.206      -0.006       0.029\n",
      "minute_deep      -0.0209      0.006     -3.334      0.001      -0.033      -0.009\n",
      "minute_light     -0.0017      0.003     -0.623      0.533      -0.007       0.004\n",
      "minute_rem        0.0045      0.005      0.944      0.345      -0.005       0.014\n",
      "minute_wake       0.0116      0.010      1.131      0.258      -0.008       0.032\n",
      "---------------------------------------------------------------------------------\n",
      "     answer=5       coef    std err          z      P>|z|      [0.025      0.975]\n",
      "---------------------------------------------------------------------------------\n",
      "const            -0.3550      0.617     -0.576      0.565      -1.564       0.854\n",
      "2                 2.3096      0.203     11.370      0.000       1.911       2.708\n",
      "3                 4.2677      0.436      9.781      0.000       3.413       5.123\n",
      "minute_in_bed    -0.0228      0.007     -3.222      0.001      -0.037      -0.009\n",
      "minute_asleep     0.0284      0.007      4.050      0.000       0.015       0.042\n",
      "minute_awake      0.0127      0.010      1.271      0.204      -0.007       0.032\n",
      "minute_deep      -0.0237      0.007     -3.608      0.000      -0.037      -0.011\n",
      "minute_light     -0.0012      0.003     -0.411      0.681      -0.007       0.004\n",
      "minute_rem       -0.0005      0.005     -0.095      0.924      -0.010       0.009\n",
      "minute_wake       0.0151      0.011      1.401      0.161      -0.006       0.036\n",
      "=================================================================================\n"
     ]
    }
   ],
   "source": [
    "print(mnlogit_res.summary())"
   ]
  },
  {
   "cell_type": "code",
   "execution_count": 126,
   "metadata": {},
   "outputs": [],
   "source": [
    "params = mnlogit_res.params\n",
    "conf = mnlogit_res.conf_int()"
   ]
  },
  {
   "cell_type": "code",
   "execution_count": 127,
   "metadata": {},
   "outputs": [],
   "source": [
    "odd_ratios = np.exp(params)"
   ]
  },
  {
   "cell_type": "code",
   "execution_count": 128,
   "metadata": {},
   "outputs": [],
   "source": [
    "ci_lower = np.exp(conf.iloc[:, 0])\n",
    "ci_upper = np.exp(conf.iloc[:, 1])"
   ]
  },
  {
   "cell_type": "code",
   "execution_count": 129,
   "metadata": {},
   "outputs": [
    {
     "data": {
      "text/plain": [
       "answer               \n",
       "2       const             3.758696\n",
       "        2                 1.075759\n",
       "        3                 1.194531\n",
       "        minute_in_bed     0.978218\n",
       "        minute_asleep     1.000197\n",
       "        minute_awake      0.986945\n",
       "        minute_deep       0.981530\n",
       "        minute_light      0.990208\n",
       "        minute_rem        0.990322\n",
       "        minute_wake       0.982485\n",
       "3       const             5.312969\n",
       "        2                 1.945653\n",
       "        3                 2.956246\n",
       "        minute_in_bed     0.979670\n",
       "        minute_asleep     1.002615\n",
       "        minute_awake      0.985512\n",
       "        minute_deep       0.975382\n",
       "        minute_light      0.989103\n",
       "        minute_rem        0.993855\n",
       "        minute_wake       0.986110\n",
       "4       const             1.253032\n",
       "        2                 3.614536\n",
       "        3                 9.752792\n",
       "        minute_in_bed     0.970791\n",
       "        minute_asleep     1.011286\n",
       "        minute_awake      0.993704\n",
       "        minute_deep       0.967332\n",
       "        minute_light      0.993128\n",
       "        minute_rem        0.995209\n",
       "        minute_wake       0.991560\n",
       "5       const             0.209314\n",
       "        2                 6.762709\n",
       "        3                30.341723\n",
       "        minute_in_bed     0.963952\n",
       "        minute_asleep     1.014737\n",
       "        minute_awake      0.993131\n",
       "        minute_deep       0.964025\n",
       "        minute_light      0.993314\n",
       "        minute_rem        0.989865\n",
       "        minute_wake       0.993993\n",
       "Name: lower, dtype: float64"
      ]
     },
     "execution_count": 129,
     "metadata": {},
     "output_type": "execute_result"
    }
   ],
   "source": [
    "ci_lower"
   ]
  },
  {
   "cell_type": "code",
   "execution_count": 130,
   "metadata": {},
   "outputs": [
    {
     "data": {
      "text/plain": [
       "answer               \n",
       "2       const             38.115889\n",
       "        2                  2.216406\n",
       "        3                  6.627783\n",
       "        minute_in_bed      1.002290\n",
       "        minute_asleep      1.024155\n",
       "        minute_awake       1.024250\n",
       "        minute_deep        1.006868\n",
       "        minute_light       1.001051\n",
       "        minute_rem         1.009580\n",
       "        minute_wake        1.024353\n",
       "3       const             49.749397\n",
       "        2                  3.900040\n",
       "        3                 15.721933\n",
       "        minute_in_bed      1.002121\n",
       "        minute_asleep      1.024915\n",
       "        minute_awake       1.020645\n",
       "        minute_deep        0.999596\n",
       "        minute_light       0.999506\n",
       "        minute_rem         1.012414\n",
       "        minute_wake        1.026381\n",
       "4       const             11.926018\n",
       "        2                  7.281299\n",
       "        3                 51.726177\n",
       "        minute_in_bed      0.993882\n",
       "        minute_asleep      1.034717\n",
       "        minute_awake       1.029707\n",
       "        minute_deep        0.991417\n",
       "        minute_light       1.003577\n",
       "        minute_rem         1.013817\n",
       "        minute_wake        1.032092\n",
       "5       const              2.348790\n",
       "        2                 14.994670\n",
       "        3                167.829843\n",
       "        minute_in_bed      0.991101\n",
       "        minute_asleep      1.042970\n",
       "        minute_awake       1.032851\n",
       "        minute_deep        0.989216\n",
       "        minute_light       1.004393\n",
       "        minute_rem         1.009290\n",
       "        minute_wake        1.036921\n",
       "Name: upper, dtype: float64"
      ]
     },
     "execution_count": 130,
     "metadata": {},
     "output_type": "execute_result"
    }
   ],
   "source": [
    "ci_upper"
   ]
  },
  {
   "cell_type": "code",
   "execution_count": 131,
   "metadata": {},
   "outputs": [
    {
     "data": {
      "text/html": [
       "<div>\n",
       "<style scoped>\n",
       "    .dataframe tbody tr th:only-of-type {\n",
       "        vertical-align: middle;\n",
       "    }\n",
       "\n",
       "    .dataframe tbody tr th {\n",
       "        vertical-align: top;\n",
       "    }\n",
       "\n",
       "    .dataframe thead th {\n",
       "        text-align: right;\n",
       "    }\n",
       "</style>\n",
       "<table border=\"1\" class=\"dataframe\">\n",
       "  <thead>\n",
       "    <tr style=\"text-align: right;\">\n",
       "      <th></th>\n",
       "      <th>0</th>\n",
       "      <th>1</th>\n",
       "      <th>2</th>\n",
       "      <th>3</th>\n",
       "    </tr>\n",
       "  </thead>\n",
       "  <tbody>\n",
       "    <tr>\n",
       "      <th>const</th>\n",
       "      <td>11.969380</td>\n",
       "      <td>16.257829</td>\n",
       "      <td>3.865706</td>\n",
       "      <td>0.701166</td>\n",
       "    </tr>\n",
       "    <tr>\n",
       "      <th>2</th>\n",
       "      <td>1.544124</td>\n",
       "      <td>2.754655</td>\n",
       "      <td>5.130158</td>\n",
       "      <td>10.069984</td>\n",
       "    </tr>\n",
       "    <tr>\n",
       "      <th>3</th>\n",
       "      <td>2.813733</td>\n",
       "      <td>6.817470</td>\n",
       "      <td>22.460513</td>\n",
       "      <td>71.359980</td>\n",
       "    </tr>\n",
       "    <tr>\n",
       "      <th>minute_in_bed</th>\n",
       "      <td>0.990181</td>\n",
       "      <td>0.990832</td>\n",
       "      <td>0.982269</td>\n",
       "      <td>0.977432</td>\n",
       "    </tr>\n",
       "    <tr>\n",
       "      <th>minute_asleep</th>\n",
       "      <td>1.012105</td>\n",
       "      <td>1.013704</td>\n",
       "      <td>1.022935</td>\n",
       "      <td>1.028757</td>\n",
       "    </tr>\n",
       "    <tr>\n",
       "      <th>minute_awake</th>\n",
       "      <td>1.005424</td>\n",
       "      <td>1.002924</td>\n",
       "      <td>1.011546</td>\n",
       "      <td>1.012796</td>\n",
       "    </tr>\n",
       "    <tr>\n",
       "      <th>minute_deep</th>\n",
       "      <td>0.994118</td>\n",
       "      <td>0.987415</td>\n",
       "      <td>0.979300</td>\n",
       "      <td>0.976539</td>\n",
       "    </tr>\n",
       "    <tr>\n",
       "      <th>minute_light</th>\n",
       "      <td>0.995615</td>\n",
       "      <td>0.994291</td>\n",
       "      <td>0.998339</td>\n",
       "      <td>0.998838</td>\n",
       "    </tr>\n",
       "    <tr>\n",
       "      <th>minute_rem</th>\n",
       "      <td>0.999905</td>\n",
       "      <td>1.003091</td>\n",
       "      <td>1.004470</td>\n",
       "      <td>0.999530</td>\n",
       "    </tr>\n",
       "    <tr>\n",
       "      <th>minute_wake</th>\n",
       "      <td>1.003200</td>\n",
       "      <td>1.006044</td>\n",
       "      <td>1.011623</td>\n",
       "      <td>1.015230</td>\n",
       "    </tr>\n",
       "  </tbody>\n",
       "</table>\n",
       "</div>"
      ],
      "text/plain": [
       "                       0          1          2          3\n",
       "const          11.969380  16.257829   3.865706   0.701166\n",
       "2               1.544124   2.754655   5.130158  10.069984\n",
       "3               2.813733   6.817470  22.460513  71.359980\n",
       "minute_in_bed   0.990181   0.990832   0.982269   0.977432\n",
       "minute_asleep   1.012105   1.013704   1.022935   1.028757\n",
       "minute_awake    1.005424   1.002924   1.011546   1.012796\n",
       "minute_deep     0.994118   0.987415   0.979300   0.976539\n",
       "minute_light    0.995615   0.994291   0.998339   0.998838\n",
       "minute_rem      0.999905   1.003091   1.004470   0.999530\n",
       "minute_wake     1.003200   1.006044   1.011623   1.015230"
      ]
     },
     "execution_count": 131,
     "metadata": {},
     "output_type": "execute_result"
    }
   ],
   "source": [
    "odd_ratios"
   ]
  },
  {
   "cell_type": "code",
   "execution_count": 132,
   "metadata": {},
   "outputs": [
    {
     "data": {
      "text/html": [
       "<div>\n",
       "<style scoped>\n",
       "    .dataframe tbody tr th:only-of-type {\n",
       "        vertical-align: middle;\n",
       "    }\n",
       "\n",
       "    .dataframe tbody tr th {\n",
       "        vertical-align: top;\n",
       "    }\n",
       "\n",
       "    .dataframe thead th {\n",
       "        text-align: right;\n",
       "    }\n",
       "</style>\n",
       "<table border=\"1\" class=\"dataframe\">\n",
       "  <thead>\n",
       "    <tr style=\"text-align: right;\">\n",
       "      <th></th>\n",
       "      <th>0</th>\n",
       "      <th>1</th>\n",
       "      <th>2</th>\n",
       "      <th>3</th>\n",
       "    </tr>\n",
       "  </thead>\n",
       "  <tbody>\n",
       "    <tr>\n",
       "      <th>const</th>\n",
       "      <td>0.000027</td>\n",
       "      <td>1.024915e-06</td>\n",
       "      <td>1.865309e-02</td>\n",
       "      <td>5.649086e-01</td>\n",
       "    </tr>\n",
       "    <tr>\n",
       "      <th>2</th>\n",
       "      <td>0.018474</td>\n",
       "      <td>1.116865e-08</td>\n",
       "      <td>5.584953e-20</td>\n",
       "      <td>5.924181e-30</td>\n",
       "    </tr>\n",
       "    <tr>\n",
       "      <th>3</th>\n",
       "      <td>0.017952</td>\n",
       "      <td>6.716538e-06</td>\n",
       "      <td>2.650177e-13</td>\n",
       "      <td>1.362250e-22</td>\n",
       "    </tr>\n",
       "    <tr>\n",
       "      <th>minute_in_bed</th>\n",
       "      <td>0.111566</td>\n",
       "      <td>1.110546e-01</td>\n",
       "      <td>2.851101e-03</td>\n",
       "      <td>1.275053e-03</td>\n",
       "    </tr>\n",
       "    <tr>\n",
       "      <th>minute_asleep</th>\n",
       "      <td>0.046299</td>\n",
       "      <td>1.529470e-02</td>\n",
       "      <td>1.041718e-04</td>\n",
       "      <td>5.128338e-05</td>\n",
       "    </tr>\n",
       "    <tr>\n",
       "      <th>minute_awake</th>\n",
       "      <td>0.567630</td>\n",
       "      <td>7.438293e-01</td>\n",
       "      <td>2.061023e-01</td>\n",
       "      <td>2.037346e-01</td>\n",
       "    </tr>\n",
       "    <tr>\n",
       "      <th>minute_deep</th>\n",
       "      <td>0.364256</td>\n",
       "      <td>4.290659e-02</td>\n",
       "      <td>8.559954e-04</td>\n",
       "      <td>3.091454e-04</td>\n",
       "    </tr>\n",
       "    <tr>\n",
       "      <th>minute_light</th>\n",
       "      <td>0.113707</td>\n",
       "      <td>3.193033e-02</td>\n",
       "      <td>5.334794e-01</td>\n",
       "      <td>6.811417e-01</td>\n",
       "    </tr>\n",
       "    <tr>\n",
       "      <th>minute_rem</th>\n",
       "      <td>0.984511</td>\n",
       "      <td>5.131310e-01</td>\n",
       "      <td>3.453150e-01</td>\n",
       "      <td>9.244750e-01</td>\n",
       "    </tr>\n",
       "    <tr>\n",
       "      <th>minute_wake</th>\n",
       "      <td>0.764067</td>\n",
       "      <td>5.550800e-01</td>\n",
       "      <td>2.581961e-01</td>\n",
       "      <td>1.611068e-01</td>\n",
       "    </tr>\n",
       "  </tbody>\n",
       "</table>\n",
       "</div>"
      ],
      "text/plain": [
       "                      0             1             2             3\n",
       "const          0.000027  1.024915e-06  1.865309e-02  5.649086e-01\n",
       "2              0.018474  1.116865e-08  5.584953e-20  5.924181e-30\n",
       "3              0.017952  6.716538e-06  2.650177e-13  1.362250e-22\n",
       "minute_in_bed  0.111566  1.110546e-01  2.851101e-03  1.275053e-03\n",
       "minute_asleep  0.046299  1.529470e-02  1.041718e-04  5.128338e-05\n",
       "minute_awake   0.567630  7.438293e-01  2.061023e-01  2.037346e-01\n",
       "minute_deep    0.364256  4.290659e-02  8.559954e-04  3.091454e-04\n",
       "minute_light   0.113707  3.193033e-02  5.334794e-01  6.811417e-01\n",
       "minute_rem     0.984511  5.131310e-01  3.453150e-01  9.244750e-01\n",
       "minute_wake    0.764067  5.550800e-01  2.581961e-01  1.611068e-01"
      ]
     },
     "execution_count": 132,
     "metadata": {},
     "output_type": "execute_result"
    }
   ],
   "source": [
    "p_values = mnlogit_res.pvalues\n",
    "p_values"
   ]
  },
  {
   "cell_type": "code",
   "execution_count": 4,
   "metadata": {},
   "outputs": [
    {
     "data": {
      "image/png": "[encoded data removed]",
      "text/plain": [
       "<Figure size 720x432 with 1 Axes>"
      ]
     },
     "metadata": {
      "needs_background": "light"
     },
     "output_type": "display_data"
    }
   ],
   "source": [
    "import matplotlib.pyplot as plt\n",
    "\n",
    "plt.figure(figsize=(10, 6))\n",
    "plt.hist(dat[\"sum_steps\"], bins=200, color=\"skyblue\", edgecolor=\"black\")\n",
    "plt.title(\"Distribution of sum steps\")\n",
    "plt.xlabel(\"Sum steps\")\n",
    "plt.ylabel(\"Frequency\")\n",
    "plt.grid(True)\n",
    "plt.show()"
   ]
  },
  {
   "cell_type": "code",
   "execution_count": 7,
   "metadata": {},
   "outputs": [
    {
     "data": {
      "image/png": "[encoded data removed]",
      "text/plain": [
       "<Figure size 720x432 with 1 Axes>"
      ]
     },
     "metadata": {
      "needs_background": "light"
     },
     "output_type": "display_data"
    }
   ],
   "source": [
    "plt.figure(figsize=(10, 6))\n",
    "dat[\"answer\"].value_counts().sort_index().plot(kind='bar', color='skyblue', edgecolor='black')\n",
    "# plt.hist(dat[\"answer\"], color=\"skyblue\")\n",
    "plt.title(\"Distribution of general health satisfaction\")\n",
    "plt.xlabel(\"General health satisfaction\")\n",
    "plt.ylabel(\"Frequency\")\n",
    "plt.grid(True)\n",
    "plt.show()"
   ]
  }
 ],
 "metadata": {
  "kernelspec": {
   "display_name": "Python 3",
   "language": "python",
   "name": "python3"
  },
  "language_info": {
   "codemirror_mode": {
    "name": "ipython",
    "version": 3
   },
   "file_extension": ".py",
   "mimetype": "text/x-python",
   "name": "python",
   "nbconvert_exporter": "python",
   "pygments_lexer": "ipython3",
   "version": "3.7.12"
  },
  "toc": {
   "base_numbering": 1,
   "nav_menu": {},
   "number_sections": true,
   "sideBar": true,
   "skip_h1_title": false,
   "title_cell": "Table of Contents",
   "title_sidebar": "Contents",
   "toc_cell": false,
   "toc_position": {},
   "toc_section_display": true,
   "toc_window_display": false
  }
 },
 "nbformat": 4,
 "nbformat_minor": 2
}
